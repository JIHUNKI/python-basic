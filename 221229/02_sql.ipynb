{
 "cells": [
  {
   "cell_type": "code",
   "execution_count": 1,
   "metadata": {},
   "outputs": [],
   "source": [
    "import mod_sql\n"
   ]
  },
  {
   "cell_type": "code",
   "execution_count": 2,
   "metadata": {},
   "outputs": [],
   "source": [
    "# 비대면 \n",
    "db = mod_sql.Database('darkpreist.iptime.org','ubion','1234')"
   ]
  },
  {
   "cell_type": "code",
   "execution_count": 8,
   "metadata": {},
   "outputs": [
    {
     "data": {
      "text/html": [
       "<div>\n",
       "<style scoped>\n",
       "    .dataframe tbody tr th:only-of-type {\n",
       "        vertical-align: middle;\n",
       "    }\n",
       "\n",
       "    .dataframe tbody tr th {\n",
       "        vertical-align: top;\n",
       "    }\n",
       "\n",
       "    .dataframe thead th {\n",
       "        text-align: right;\n",
       "    }\n",
       "</style>\n",
       "<table border=\"1\" class=\"dataframe\">\n",
       "  <thead>\n",
       "    <tr style=\"text-align: right;\">\n",
       "      <th></th>\n",
       "      <th>EMPNO</th>\n",
       "      <th>ENAME</th>\n",
       "      <th>JOB</th>\n",
       "      <th>MGR</th>\n",
       "      <th>HIREDATE</th>\n",
       "      <th>SAL</th>\n",
       "      <th>COMM</th>\n",
       "      <th>DEPTNO</th>\n",
       "    </tr>\n",
       "  </thead>\n",
       "  <tbody>\n",
       "    <tr>\n",
       "      <th>0</th>\n",
       "      <td>7369</td>\n",
       "      <td>SMITH</td>\n",
       "      <td>CLERK</td>\n",
       "      <td>7902</td>\n",
       "      <td>1980-12-17</td>\n",
       "      <td>800.00</td>\n",
       "      <td>None</td>\n",
       "      <td>20</td>\n",
       "    </tr>\n",
       "    <tr>\n",
       "      <th>1</th>\n",
       "      <td>7566</td>\n",
       "      <td>JONES</td>\n",
       "      <td>MANAGER</td>\n",
       "      <td>7839</td>\n",
       "      <td>1981-04-02</td>\n",
       "      <td>2975.00</td>\n",
       "      <td>None</td>\n",
       "      <td>20</td>\n",
       "    </tr>\n",
       "    <tr>\n",
       "      <th>2</th>\n",
       "      <td>7788</td>\n",
       "      <td>SCOTT</td>\n",
       "      <td>ANALYST</td>\n",
       "      <td>7566</td>\n",
       "      <td>1987-06-28</td>\n",
       "      <td>3000.00</td>\n",
       "      <td>None</td>\n",
       "      <td>20</td>\n",
       "    </tr>\n",
       "    <tr>\n",
       "      <th>3</th>\n",
       "      <td>7876</td>\n",
       "      <td>ADAMS</td>\n",
       "      <td>CLERK</td>\n",
       "      <td>7788</td>\n",
       "      <td>1987-07-13</td>\n",
       "      <td>1100.00</td>\n",
       "      <td>None</td>\n",
       "      <td>20</td>\n",
       "    </tr>\n",
       "    <tr>\n",
       "      <th>4</th>\n",
       "      <td>7900</td>\n",
       "      <td>JAMES</td>\n",
       "      <td>CLERK</td>\n",
       "      <td>7698</td>\n",
       "      <td>1981-12-03</td>\n",
       "      <td>950.00</td>\n",
       "      <td>None</td>\n",
       "      <td>30</td>\n",
       "    </tr>\n",
       "  </tbody>\n",
       "</table>\n",
       "</div>"
      ],
      "text/plain": [
       "  EMPNO  ENAME      JOB   MGR    HIREDATE      SAL  COMM DEPTNO\n",
       "0  7369  SMITH    CLERK  7902  1980-12-17   800.00  None     20\n",
       "1  7566  JONES  MANAGER  7839  1981-04-02  2975.00  None     20\n",
       "2  7788  SCOTT  ANALYST  7566  1987-06-28  3000.00  None     20\n",
       "3  7876  ADAMS    CLERK  7788  1987-07-13  1100.00  None     20\n",
       "4  7900  JAMES    CLERK  7698  1981-12-03   950.00  None     30"
      ]
     },
     "execution_count": 8,
     "metadata": {},
     "output_type": "execute_result"
    }
   ],
   "source": [
    "### emp table에서 s 시작하는 사원의 정보 출력\n",
    "### python 에서 %를 쓰기위해서 두개를 사용해야 한다.\n",
    "sql = \"\"\" \n",
    "    select * \n",
    "    from emp\n",
    "    where `ENAME` like 'S%%'\n",
    "    \"\"\"\n",
    "db.excuteAll(sql)\n",
    "## S로 끝나는 사람\n",
    "sql_2 = \"\"\" \n",
    "    select * \n",
    "    from emp\n",
    "    where `ENAME` like '%%S'\n",
    "    \"\"\"\n",
    "db.excuteAll(sql_2)\n",
    "## 앞에있던 뒤에있던 가운데에 S가 있으면\n",
    "sql_3 = \"\"\" \n",
    "    select * \n",
    "    from emp\n",
    "    where `ENAME` like '%%S%%'\n",
    "    \"\"\"\n",
    "db.excuteAll(sql_3)"
   ]
  },
  {
   "cell_type": "code",
   "execution_count": null,
   "metadata": {},
   "outputs": [],
   "source": []
  }
 ],
 "metadata": {
  "kernelspec": {
   "display_name": "base",
   "language": "python",
   "name": "python3"
  },
  "language_info": {
   "codemirror_mode": {
    "name": "ipython",
    "version": 3
   },
   "file_extension": ".py",
   "mimetype": "text/x-python",
   "name": "python",
   "nbconvert_exporter": "python",
   "pygments_lexer": "ipython3",
   "version": "3.9.13"
  },
  "orig_nbformat": 4,
  "vscode": {
   "interpreter": {
    "hash": "4b9c4346514f1c75c3f75b46c44207535026684b90417d2a4d1ec0e73da03737"
   }
  }
 },
 "nbformat": 4,
 "nbformat_minor": 2
}
