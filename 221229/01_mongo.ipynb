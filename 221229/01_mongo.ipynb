{
 "cells": [
  {
   "cell_type": "code",
   "execution_count": 1,
   "metadata": {},
   "outputs": [
    {
     "name": "stdout",
     "output_type": "stream",
     "text": [
      "Collecting pymongo\n",
      "  Downloading pymongo-4.3.3-cp39-cp39-win_amd64.whl (382 kB)\n",
      "     -------------------------------------- 382.5/382.5 kB 7.9 MB/s eta 0:00:00\n",
      "Collecting dnspython<3.0.0,>=1.16.0\n",
      "  Downloading dnspython-2.2.1-py3-none-any.whl (269 kB)\n",
      "     ------------------------------------- 269.1/269.1 kB 16.2 MB/s eta 0:00:00\n",
      "Installing collected packages: dnspython, pymongo\n",
      "Successfully installed dnspython-2.2.1 pymongo-4.3.3\n"
     ]
    }
   ],
   "source": [
    "## python에서 몽고db를 연결하려면 라이브러리\n",
    "!pip install pymongo"
   ]
  },
  {
   "cell_type": "code",
   "execution_count": 2,
   "metadata": {},
   "outputs": [],
   "source": [
    "from pymongo import MongoClient"
   ]
  },
  {
   "cell_type": "code",
   "execution_count": 3,
   "metadata": {},
   "outputs": [],
   "source": [
    "client = MongoClient(\n",
    "    host = 'localhost',\n",
    "    port = 27017\n",
    ")"
   ]
  },
  {
   "cell_type": "code",
   "execution_count": 6,
   "metadata": {},
   "outputs": [
    {
     "data": {
      "text/plain": [
       "['admin', 'config', 'local']"
      ]
     },
     "execution_count": 6,
     "metadata": {},
     "output_type": "execute_result"
    }
   ],
   "source": [
    "## mongodb에 있는 데이터베이스 목록 출력\n",
    "client.list_database_names()"
   ]
  },
  {
   "cell_type": "code",
   "execution_count": 5,
   "metadata": {},
   "outputs": [],
   "source": [
    "## 데이터접근 use와 같은 기능 사용\n",
    "## mongodb에서는 use을 이용하면 새로운 데이터베이스 생성\n",
    "db = client['ubion']"
   ]
  },
  {
   "cell_type": "code",
   "execution_count": 8,
   "metadata": {},
   "outputs": [],
   "source": [
    "## collection 접근 (collection은 sql에 table과 같은 의미)\n",
    "collection = db['test'] "
   ]
  },
  {
   "cell_type": "code",
   "execution_count": 12,
   "metadata": {},
   "outputs": [
    {
     "data": {
      "text/plain": [
       "<pymongo.results.InsertOneResult at 0x25e37fe9220>"
      ]
     },
     "execution_count": 12,
     "metadata": {},
     "output_type": "execute_result"
    }
   ],
   "source": [
    "### CRUD (create read update delete)\n",
    "\n",
    "## create -> insert()\n",
    "## insert_many() / insert_ond() 두개의 함수가 존재\n",
    "## sql에서도 같은 기능이 존재\n",
    "## insert into table명(필드 지정) values (데이터 값)\n",
    "data = { \n",
    "    \"id\" : \"test\",\n",
    "    \"password\" : \"1234\"\n",
    "}\n",
    "collection.insert_one(data)"
   ]
  },
  {
   "cell_type": "code",
   "execution_count": 13,
   "metadata": {},
   "outputs": [
    {
     "data": {
      "text/plain": [
       "{'_id': ObjectId('63ace0f4a6ef2cd746ac5865'), 'id': 'test', 'password': '1234'}"
      ]
     },
     "execution_count": 13,
     "metadata": {},
     "output_type": "execute_result"
    }
   ],
   "source": [
    "collection.find_one()"
   ]
  },
  {
   "cell_type": "code",
   "execution_count": 14,
   "metadata": {},
   "outputs": [
    {
     "data": {
      "text/plain": [
       "<pymongo.results.InsertManyResult at 0x25e37fd1700>"
      ]
     },
     "execution_count": 14,
     "metadata": {},
     "output_type": "execute_result"
    }
   ],
   "source": [
    "data = [\n",
    "    {\n",
    "        \"name\" : \"test\",\n",
    "        \"phone\" : \"01012345678\",\n",
    "        \"gender\" : \"male\"\n",
    "    },\n",
    "    {\n",
    "        \"loc\" : \"seoul\"\n",
    "    }\n",
    "]\n",
    "collection.insert_many(data)"
   ]
  },
  {
   "attachments": {},
   "cell_type": "markdown",
   "metadata": {},
   "source": [
    "1. sql에서 id,pass데이터 / name,phone,gender데이터/loc데이터가 존재한다면 어떤 형식으로 구현\n",
    "2. table을 3개 생성\n",
    "3. 각 table에 데이터들을 저장\n",
    "4. 이유는 sql은 정형화 데이터를 저장하는 방식이기 때문\n"
   ]
  },
  {
   "cell_type": "code",
   "execution_count": 18,
   "metadata": {},
   "outputs": [
    {
     "data": {
      "text/plain": [
       "[{'_id': ObjectId('63ace0f4a6ef2cd746ac5865')},\n",
       " {'_id': ObjectId('63ace313a6ef2cd746ac5866'), 'name': 'test'},\n",
       " {'_id': ObjectId('63ace313a6ef2cd746ac5867')}]"
      ]
     },
     "execution_count": 18,
     "metadata": {},
     "output_type": "execute_result"
    }
   ],
   "source": [
    "##                         mysql에서 {} where 조건\n",
    "list(client['ubion']['test'].find({},{\"name\":1}))\n",
    "### select name from test"
   ]
  },
  {
   "cell_type": "code",
   "execution_count": 19,
   "metadata": {},
   "outputs": [
    {
     "data": {
      "text/plain": [
       "<pymongo.results.UpdateResult at 0x25e37fd1d60>"
      ]
     },
     "execution_count": 19,
     "metadata": {},
     "output_type": "execute_result"
    }
   ],
   "source": [
    "## update 수정\n",
    "collection.update_one(\n",
    "    {\n",
    "        \"id\" : \"test\"\n",
    "    },\n",
    "    {\n",
    "        \"$set\" : {\n",
    "            \"password\" : \"0000\" \n",
    "        }\n",
    "    }\n",
    ")"
   ]
  },
  {
   "cell_type": "code",
   "execution_count": 20,
   "metadata": {},
   "outputs": [
    {
     "data": {
      "text/plain": [
       "[{'_id': ObjectId('63ace0f4a6ef2cd746ac5865'),\n",
       "  'id': 'test',\n",
       "  'password': '0000'},\n",
       " {'_id': ObjectId('63ace313a6ef2cd746ac5866'),\n",
       "  'name': 'test',\n",
       "  'phone': '01012345678',\n",
       "  'gender': 'male'},\n",
       " {'_id': ObjectId('63ace313a6ef2cd746ac5867'), 'loc': 'seoul'}]"
      ]
     },
     "execution_count": 20,
     "metadata": {},
     "output_type": "execute_result"
    }
   ],
   "source": [
    "list(collection.find())"
   ]
  },
  {
   "cell_type": "code",
   "execution_count": 21,
   "metadata": {},
   "outputs": [
    {
     "data": {
      "text/plain": [
       "<pymongo.results.DeleteResult at 0x25e35653220>"
      ]
     },
     "execution_count": 21,
     "metadata": {},
     "output_type": "execute_result"
    }
   ],
   "source": [
    "##삭제, delect\n",
    "collection.delete_one(\n",
    "    {\n",
    "        \"id\" : \"test\"\n",
    "    }\n",
    ")"
   ]
  },
  {
   "cell_type": "code",
   "execution_count": 23,
   "metadata": {},
   "outputs": [
    {
     "data": {
      "text/plain": [
       "[{'_id': ObjectId('63ace313a6ef2cd746ac5866'),\n",
       "  'name': 'test',\n",
       "  'phone': '01012345678',\n",
       "  'gender': 'male'},\n",
       " {'_id': ObjectId('63ace313a6ef2cd746ac5867'), 'loc': 'seoul'}]"
      ]
     },
     "execution_count": 23,
     "metadata": {},
     "output_type": "execute_result"
    }
   ],
   "source": [
    "list(collection.find())"
   ]
  },
  {
   "attachments": {},
   "cell_type": "markdown",
   "metadata": {},
   "source": [
    "### mongodb select 조건식\n",
    "find(조건1, 조건2, 조건3 ....., 컬럼 선택)\n",
    "1. db.collection.find() -> select * from table\n",
    "2. db.collection.find({},{\"id\" : 1, \"password\":1}) -> select _id,id,password from table\n",
    "3. db.collection.find({},{\"id\":1,\"password\":1,\"_id\":0}) -> select id,password from table( _id라는 항목은 보여주지 않겠다.)\n",
    "4. db.collection.find({\"id\":\"test\"}) -> select * FROM table where id ='test'\n",
    "5. db.collcetion.find({\"id\":\"test\",\"password\":\"1234\"}) ->select * from table where id='test' and password='1234'\n",
    "6. db.collection.find({\"id\":\"test\"},{\"password\":\"1234\"}) -> select * from table where id ='test or password='1234'\n",
    "7. db.collection.find({\"age\" : {$gt : 25}}) ->select * from table where age >25\n",
    "8. db.collection.find({\"age\":{%lt:25}}) - > select * from\n",
    "table where age < 25\n",
    "9. db.collection.find({\"id\" : {/bc/}}) ->select * from table where od like '%bc%'\n",
    "10. db.collection.find().sort({\"id\":1}) ->select * from\n",
    "table order by id asc\n",
    "11. db.collection.find().sort({\"id\":-1}) ->select * from\n",
    "table order by id DESC\n",
    "12. db.collection.find().limit(10) -> select * from table limit 10"
   ]
  },
  {
   "cell_type": "code",
   "execution_count": null,
   "metadata": {},
   "outputs": [],
   "source": []
  }
 ],
 "metadata": {
  "kernelspec": {
   "display_name": "base",
   "language": "python",
   "name": "python3"
  },
  "language_info": {
   "codemirror_mode": {
    "name": "ipython",
    "version": 3
   },
   "file_extension": ".py",
   "mimetype": "text/x-python",
   "name": "python",
   "nbconvert_exporter": "python",
   "pygments_lexer": "ipython3",
   "version": "3.9.13"
  },
  "orig_nbformat": 4,
  "vscode": {
   "interpreter": {
    "hash": "4b9c4346514f1c75c3f75b46c44207535026684b90417d2a4d1ec0e73da03737"
   }
  }
 },
 "nbformat": 4,
 "nbformat_minor": 2
}
