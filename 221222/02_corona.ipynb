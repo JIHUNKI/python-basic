{
 "cells": [
  {
   "attachments": {},
   "cell_type": "markdown",
   "metadata": {},
   "source": [
    "### 복습\n",
    "1. corona.csv 파일을 로드\n",
    "2. 결측치가 존재하는지 확인\n",
    "3. Unnamed: 0 컬럼 삭제\n",
    "4. 컬럼의 이름 변경 -> [등록일시, 사망자, 확진자, 게시글번호,기준일, 기준시간, 수정일시, 누적의심자, 누적확진율]\n",
    "5. 등록일시를 기준으로 오름차순 정렬, 인덱스리셋(기존의 인덱스 삭제)\n",
    "6. 새로운 파생변수 일일 사망자, 일일확진자 생성\n",
    "7. 게시글번호, 기준일, 기준시간컬럼을 삭제\n",
    "8. 일일사망자가 음수인행을 삭제"
   ]
  },
  {
   "cell_type": "code",
   "execution_count": 57,
   "metadata": {},
   "outputs": [],
   "source": [
    "import pandas as pd"
   ]
  },
  {
   "cell_type": "code",
   "execution_count": 58,
   "metadata": {},
   "outputs": [],
   "source": [
    "corona_df = pd.read_csv(\"../221214/corona.csv\")"
   ]
  },
  {
   "cell_type": "code",
   "execution_count": 59,
   "metadata": {},
   "outputs": [],
   "source": [
    "corona_df.isna().sum()\n",
    "corona_df.drop([\"Unnamed: 0\"],axis=1,inplace=True)\n",
    "# corona.iloc[:, 1:]\n",
    "# corona.loc[:, 'createDt':]"
   ]
  },
  {
   "cell_type": "code",
   "execution_count": 60,
   "metadata": {},
   "outputs": [],
   "source": [
    "corona_df.columns = ['등록일시', '사망자', '확진자', '게시글번호','기준일', '기준시간', '수정일시', '누적의심자', '누적확진율']"
   ]
  },
  {
   "cell_type": "code",
   "execution_count": 61,
   "metadata": {},
   "outputs": [],
   "source": [
    "corona_df = corona_df.sort_values(\"등록일시\").reset_index(drop=True)"
   ]
  },
  {
   "cell_type": "code",
   "execution_count": 62,
   "metadata": {},
   "outputs": [
    {
     "data": {
      "text/html": [
       "<div>\n",
       "<style scoped>\n",
       "    .dataframe tbody tr th:only-of-type {\n",
       "        vertical-align: middle;\n",
       "    }\n",
       "\n",
       "    .dataframe tbody tr th {\n",
       "        vertical-align: top;\n",
       "    }\n",
       "\n",
       "    .dataframe thead th {\n",
       "        text-align: right;\n",
       "    }\n",
       "</style>\n",
       "<table border=\"1\" class=\"dataframe\">\n",
       "  <thead>\n",
       "    <tr style=\"text-align: right;\">\n",
       "      <th></th>\n",
       "      <th>등록일시</th>\n",
       "      <th>사망자</th>\n",
       "      <th>확진자</th>\n",
       "      <th>게시글번호</th>\n",
       "      <th>기준일</th>\n",
       "      <th>기준시간</th>\n",
       "      <th>수정일시</th>\n",
       "      <th>누적의심자</th>\n",
       "      <th>누적확진율</th>\n",
       "    </tr>\n",
       "  </thead>\n",
       "  <tbody>\n",
       "    <tr>\n",
       "      <th>0</th>\n",
       "      <td>2020-01-20 17:00:00.000</td>\n",
       "      <td>0</td>\n",
       "      <td>1</td>\n",
       "      <td>1</td>\n",
       "      <td>20200120</td>\n",
       "      <td>17:00</td>\n",
       "      <td>2021-10-07 10:30:51.51</td>\n",
       "      <td>4.0</td>\n",
       "      <td>25.000000</td>\n",
       "    </tr>\n",
       "    <tr>\n",
       "      <th>1</th>\n",
       "      <td>2020-01-21 09:00:00.000</td>\n",
       "      <td>0</td>\n",
       "      <td>1</td>\n",
       "      <td>2</td>\n",
       "      <td>20200121</td>\n",
       "      <td>09:00</td>\n",
       "      <td>2021-10-07 10:30:51.51</td>\n",
       "      <td>15.0</td>\n",
       "      <td>6.666667</td>\n",
       "    </tr>\n",
       "    <tr>\n",
       "      <th>2</th>\n",
       "      <td>2020-01-22 12:00:00.000</td>\n",
       "      <td>0</td>\n",
       "      <td>1</td>\n",
       "      <td>3</td>\n",
       "      <td>20200122</td>\n",
       "      <td>12:00</td>\n",
       "      <td>2021-10-07 10:30:51.51</td>\n",
       "      <td>21.0</td>\n",
       "      <td>4.761905</td>\n",
       "    </tr>\n",
       "    <tr>\n",
       "      <th>3</th>\n",
       "      <td>2020-01-23 09:00:00.000</td>\n",
       "      <td>0</td>\n",
       "      <td>1</td>\n",
       "      <td>4</td>\n",
       "      <td>20200123</td>\n",
       "      <td>09:00</td>\n",
       "      <td>2021-10-07 10:30:51.51</td>\n",
       "      <td>25.0</td>\n",
       "      <td>4.000000</td>\n",
       "    </tr>\n",
       "    <tr>\n",
       "      <th>4</th>\n",
       "      <td>2020-01-24 00:00:00.000</td>\n",
       "      <td>0</td>\n",
       "      <td>2</td>\n",
       "      <td>5</td>\n",
       "      <td>20200124</td>\n",
       "      <td>00:00</td>\n",
       "      <td>2021-10-07 10:30:51.51</td>\n",
       "      <td>29.0</td>\n",
       "      <td>6.896552</td>\n",
       "    </tr>\n",
       "  </tbody>\n",
       "</table>\n",
       "</div>"
      ],
      "text/plain": [
       "                      등록일시  사망자  확진자  게시글번호       기준일   기준시간  \\\n",
       "0  2020-01-20 17:00:00.000    0    1      1  20200120  17:00   \n",
       "1  2020-01-21 09:00:00.000    0    1      2  20200121  09:00   \n",
       "2  2020-01-22 12:00:00.000    0    1      3  20200122  12:00   \n",
       "3  2020-01-23 09:00:00.000    0    1      4  20200123  09:00   \n",
       "4  2020-01-24 00:00:00.000    0    2      5  20200124  00:00   \n",
       "\n",
       "                     수정일시  누적의심자      누적확진율  \n",
       "0  2021-10-07 10:30:51.51    4.0  25.000000  \n",
       "1  2021-10-07 10:30:51.51   15.0   6.666667  \n",
       "2  2021-10-07 10:30:51.51   21.0   4.761905  \n",
       "3  2021-10-07 10:30:51.51   25.0   4.000000  \n",
       "4  2021-10-07 10:30:51.51   29.0   6.896552  "
      ]
     },
     "execution_count": 62,
     "metadata": {},
     "output_type": "execute_result"
    }
   ],
   "source": [
    "corona_df.head()"
   ]
  },
  {
   "cell_type": "code",
   "execution_count": 63,
   "metadata": {},
   "outputs": [],
   "source": [
    "corona_df[\"일일 사망자\"] = corona_df[\"사망자\"].diff()\n",
    "corona_df[\"일일 확진자\"] = corona_df[\"확진자\"].diff()\n",
    "# corona_df[\"일일 사망자\"] =corona_df[\"사망자\"] - corona_df[\"사망자\"].shift()\n",
    "# corona_df[\"일일 확진자\"] = corona_df[\"확진자\"] - corona_df[\"확진자\"].shift()\n"
   ]
  },
  {
   "cell_type": "code",
   "execution_count": 21,
   "metadata": {},
   "outputs": [],
   "source": [
    "corona_df.drop([\"게시글번호\",\"기준일\",\"기준시간\"],axis=1,inplace=True)"
   ]
  },
  {
   "cell_type": "code",
   "execution_count": 66,
   "metadata": {},
   "outputs": [],
   "source": [
    "ind = corona_df[corona_df[\"일일 확진자\"]<0 ].index\n",
    "corona_df.drop(ind,axis=0,inplace=True)"
   ]
  },
  {
   "cell_type": "code",
   "execution_count": 67,
   "metadata": {},
   "outputs": [
    {
     "data": {
      "text/html": [
       "<div>\n",
       "<style scoped>\n",
       "    .dataframe tbody tr th:only-of-type {\n",
       "        vertical-align: middle;\n",
       "    }\n",
       "\n",
       "    .dataframe tbody tr th {\n",
       "        vertical-align: top;\n",
       "    }\n",
       "\n",
       "    .dataframe thead th {\n",
       "        text-align: right;\n",
       "    }\n",
       "</style>\n",
       "<table border=\"1\" class=\"dataframe\">\n",
       "  <thead>\n",
       "    <tr style=\"text-align: right;\">\n",
       "      <th></th>\n",
       "      <th>등록일시</th>\n",
       "      <th>사망자</th>\n",
       "      <th>확진자</th>\n",
       "      <th>게시글번호</th>\n",
       "      <th>기준일</th>\n",
       "      <th>기준시간</th>\n",
       "      <th>수정일시</th>\n",
       "      <th>누적의심자</th>\n",
       "      <th>누적확진율</th>\n",
       "      <th>일일 사망자</th>\n",
       "      <th>일일 확진자</th>\n",
       "    </tr>\n",
       "  </thead>\n",
       "  <tbody>\n",
       "  </tbody>\n",
       "</table>\n",
       "</div>"
      ],
      "text/plain": [
       "Empty DataFrame\n",
       "Columns: [등록일시, 사망자, 확진자, 게시글번호, 기준일, 기준시간, 수정일시, 누적의심자, 누적확진율, 일일 사망자, 일일 확진자]\n",
       "Index: []"
      ]
     },
     "execution_count": 67,
     "metadata": {},
     "output_type": "execute_result"
    }
   ],
   "source": [
    "corona_df[corona_df[\"일일 확진자\"]<0]"
   ]
  },
  {
   "cell_type": "code",
   "execution_count": 65,
   "metadata": {},
   "outputs": [
    {
     "data": {
      "text/plain": [
       "Int64Index([496], dtype='int64')"
      ]
     },
     "execution_count": 65,
     "metadata": {},
     "output_type": "execute_result"
    }
   ],
   "source": []
  }
 ],
 "metadata": {
  "kernelspec": {
   "display_name": "base",
   "language": "python",
   "name": "python3"
  },
  "language_info": {
   "codemirror_mode": {
    "name": "ipython",
    "version": 3
   },
   "file_extension": ".py",
   "mimetype": "text/x-python",
   "name": "python",
   "nbconvert_exporter": "python",
   "pygments_lexer": "ipython3",
   "version": "3.9.13"
  },
  "orig_nbformat": 4,
  "vscode": {
   "interpreter": {
    "hash": "4b9c4346514f1c75c3f75b46c44207535026684b90417d2a4d1ec0e73da03737"
   }
  }
 },
 "nbformat": 4,
 "nbformat_minor": 2
}
