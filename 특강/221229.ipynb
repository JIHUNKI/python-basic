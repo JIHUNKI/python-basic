{
 "cells": [
  {
   "attachments": {},
   "cell_type": "markdown",
   "metadata": {},
   "source": [
    "### 할로윈 투자 전략\n",
    "1. 11월 1일에 구매 -> 6개월동안 유지 4월 말일에 판매\n",
    "2. 11월 첫날 시가로 구매\n",
    "3. 4월 마지막날 종가로 판매\n",
    "4. 수익율 = (3번과정 - 2번과정) / 2번과정 \n",
    "5. 투자 기간이 21년 누적 수익율 계산\n",
    "6. CAGR(연복리수익율) 계산\n",
    "7. MDD(Max DrawDown) \n",
    "8. 백테스팅"
   ]
  },
  {
   "cell_type": "code",
   "execution_count": 4,
   "metadata": {},
   "outputs": [],
   "source": [
    "import pandas as pd"
   ]
  },
  {
   "cell_type": "code",
   "execution_count": 5,
   "metadata": {},
   "outputs": [],
   "source": [
    "kospi = pd.read_excel(\"./kospi.xlsx\",engine='openpyxl',index_col=0)"
   ]
  },
  {
   "cell_type": "code",
   "execution_count": 8,
   "metadata": {},
   "outputs": [
    {
     "data": {
      "text/html": [
       "<div>\n",
       "<style scoped>\n",
       "    .dataframe tbody tr th:only-of-type {\n",
       "        vertical-align: middle;\n",
       "    }\n",
       "\n",
       "    .dataframe tbody tr th {\n",
       "        vertical-align: top;\n",
       "    }\n",
       "\n",
       "    .dataframe thead th {\n",
       "        text-align: right;\n",
       "    }\n",
       "</style>\n",
       "<table border=\"1\" class=\"dataframe\">\n",
       "  <thead>\n",
       "    <tr style=\"text-align: right;\">\n",
       "      <th></th>\n",
       "      <th>Close</th>\n",
       "      <th>Open</th>\n",
       "      <th>High</th>\n",
       "      <th>Low</th>\n",
       "      <th>Volume</th>\n",
       "      <th>Change</th>\n",
       "    </tr>\n",
       "    <tr>\n",
       "      <th>Date</th>\n",
       "      <th></th>\n",
       "      <th></th>\n",
       "      <th></th>\n",
       "      <th></th>\n",
       "      <th></th>\n",
       "      <th></th>\n",
       "    </tr>\n",
       "  </thead>\n",
       "  <tbody>\n",
       "    <tr>\n",
       "      <th>2021-08-27</th>\n",
       "      <td>3133.9</td>\n",
       "      <td>3116.29</td>\n",
       "      <td>3143.01</td>\n",
       "      <td>3106.97</td>\n",
       "      <td>520670000.0</td>\n",
       "      <td>0.0017</td>\n",
       "    </tr>\n",
       "  </tbody>\n",
       "</table>\n",
       "</div>"
      ],
      "text/plain": [
       "             Close     Open     High      Low       Volume  Change\n",
       "Date                                                              \n",
       "2021-08-27  3133.9  3116.29  3143.01  3106.97  520670000.0  0.0017"
      ]
     },
     "execution_count": 8,
     "metadata": {},
     "output_type": "execute_result"
    }
   ],
   "source": [
    "kospi.tail(1)"
   ]
  },
  {
   "cell_type": "code",
   "execution_count": null,
   "metadata": {},
   "outputs": [],
   "source": [
    "kospi.loc[\"2000-11\"]"
   ]
  },
  {
   "cell_type": "code",
   "execution_count": null,
   "metadata": {},
   "outputs": [],
   "source": [
    "kospi.loc[\"2001-04\"]"
   ]
  },
  {
   "cell_type": "code",
   "execution_count": 7,
   "metadata": {},
   "outputs": [
    {
     "name": "stdout",
     "output_type": "stream",
     "text": [
      "2000-11 2001-04\n",
      "2001-11 2002-04\n",
      "2002-11 2003-04\n",
      "2003-11 2004-04\n",
      "2004-11 2005-04\n",
      "2005-11 2006-04\n",
      "2006-11 2007-04\n",
      "2007-11 2008-04\n",
      "2008-11 2009-04\n",
      "2009-11 2010-04\n",
      "2010-11 2011-04\n",
      "2011-11 2012-04\n",
      "2012-11 2013-04\n",
      "2013-11 2014-04\n",
      "2014-11 2015-04\n",
      "2015-11 2016-04\n",
      "2016-11 2017-04\n",
      "2017-11 2018-04\n",
      "2018-11 2019-04\n",
      "2019-11 2020-04\n",
      "2020-11 2021-04\n"
     ]
    }
   ],
   "source": [
    "for year in range(2000,2021):\n",
    "    buy_mon = str(year)+\"-11\"\n",
    "    sell_mon = str(year+1) + \"-04\"\n",
    "    print(buy_mon,sell_mon)"
   ]
  },
  {
   "cell_type": "code",
   "execution_count": 41,
   "metadata": {},
   "outputs": [
    {
     "data": {
      "text/plain": [
       "6.18585306815823"
      ]
     },
     "execution_count": 41,
     "metadata": {},
     "output_type": "execute_result"
    }
   ],
   "source": [
    "acc_rtn = 1\n",
    "\n",
    "for year in range(2000,2021):\n",
    "    buy_mon = str(year)+\"-11\"\n",
    "    sell_mon = str(year+1) + \"-04\"\n",
    "\n",
    "    #매수가 지정\n",
    "    buy = kospi.loc[buy_mon].iloc[0]['Open']\n",
    "    #매도가 지정\n",
    "    sell = kospi.loc[sell_mon].iloc[-1]['Close']\n",
    "    \n",
    "    # 수익율 (매도가/매수가)\n",
    "    rtn = sell / buy\n",
    "    # 누적 수익율 계산 \n",
    "    acc_rtn *=rtn \n",
    "    \n",
    "acc_rtn\n"
   ]
  },
  {
   "cell_type": "code",
   "execution_count": 22,
   "metadata": {},
   "outputs": [
    {
     "data": {
      "text/plain": [
       "3.047562552876995"
      ]
     },
     "execution_count": 22,
     "metadata": {},
     "output_type": "execute_result"
    }
   ],
   "source": [
    "## buy and hold 의 수익율\n",
    "# 매수가\n",
    "buy = kospi.iloc[0][\"Open\"]\n",
    "# 매도가\n",
    "sell = kospi.iloc[-1][\"Close\"]\n",
    "\n",
    "# 수익율\n",
    "rtn = sell/buy\n",
    "rtn\n"
   ]
  },
  {
   "cell_type": "code",
   "execution_count": 61,
   "metadata": {},
   "outputs": [
    {
     "data": {
      "text/plain": [
       "9.06507321504515"
      ]
     },
     "execution_count": 61,
     "metadata": {},
     "output_type": "execute_result"
    }
   ],
   "source": [
    "## CAGR 계산\n",
    "##  (수익율 **(1/투자기간))-1  \n",
    "CAGR = (acc_rtn ** (1/21))-1\n",
    "CAGR*100"
   ]
  },
  {
   "cell_type": "code",
   "execution_count": 30,
   "metadata": {},
   "outputs": [
    {
     "data": {
      "text/plain": [
       "5.449703577738263"
      ]
     },
     "execution_count": 30,
     "metadata": {},
     "output_type": "execute_result"
    }
   ],
   "source": [
    "## 바이앤 홀드 CAGR\n",
    "BAH_CAGR = (rtn **(1/21))-1\n",
    "BAH_CAGR*100"
   ]
  },
  {
   "attachments": {},
   "cell_type": "markdown",
   "metadata": {},
   "source": [
    "### 백테스팅"
   ]
  },
  {
   "cell_type": "code",
   "execution_count": 31,
   "metadata": {},
   "outputs": [],
   "source": [
    "import datetime\n",
    "from dateutil.relativedelta import relativedelta"
   ]
  },
  {
   "cell_type": "code",
   "execution_count": 34,
   "metadata": {},
   "outputs": [],
   "source": [
    "start = datetime.datetime(year=2000,month=11,day=1)\n",
    "end = start + relativedelta(months=5)"
   ]
  },
  {
   "cell_type": "code",
   "execution_count": 36,
   "metadata": {},
   "outputs": [
    {
     "name": "stdout",
     "output_type": "stream",
     "text": [
      "2000-11 2001-04\n"
     ]
    }
   ],
   "source": [
    "print(start.strftime(\"%Y-%m\"),end.strftime(\"%Y-%m\"))"
   ]
  },
  {
   "cell_type": "code",
   "execution_count": 38,
   "metadata": {},
   "outputs": [],
   "source": [
    "def six_month(df,start_year=2000,end_year=2020,month=11):\n",
    "    # 누적 수익율 초기값\n",
    "    acc_rtn = 1\n",
    "    \n",
    "    # 반복문을 이용하여 누적수익율 계산\n",
    "    for year in range(start_year,end_year):\n",
    "        start = datetime.datetime(year=year,month=month,day=1)\n",
    "        end = start + relativedelta(months=5)\n",
    "\n",
    "        buy_mon = start.strftime(\"%Y-%m\")\n",
    "        sell_mon = end.strftime(\"%Y-%m\")\n",
    "\n",
    "        # 구매가\n",
    "        buy = df.loc[buy_mon].iloc[0][\"Open\"]\n",
    "        #  판매가\n",
    "        sell = df.loc[sell_mon].iloc[-1][\"Close\"]\n",
    "\n",
    "        # 수익율\n",
    "        rtn = sell / buy\n",
    "        #누적 수익율\n",
    "        acc_rtn *= rtn\n",
    "    \n",
    "    return acc_rtn"
   ]
  },
  {
   "cell_type": "code",
   "execution_count": 39,
   "metadata": {},
   "outputs": [
    {
     "data": {
      "text/plain": [
       "6.18585306815823"
      ]
     },
     "execution_count": 39,
     "metadata": {},
     "output_type": "execute_result"
    }
   ],
   "source": [
    "six_month(kospi,2000,2021,11)"
   ]
  },
  {
   "cell_type": "code",
   "execution_count": 54,
   "metadata": {},
   "outputs": [
    {
     "name": "stdout",
     "output_type": "stream",
     "text": [
      "1 -> 1.64\n",
      "2 -> 1.72\n",
      "3 -> 1.64\n",
      "4 -> 1.45\n",
      "5 -> 0.64\n",
      "6 -> 1.16\n",
      "7 -> 1.65\n",
      "8 -> 1.81\n",
      "9 -> 2.03\n",
      "10 -> 2.50\n",
      "11 -> 6.19\n",
      "12 -> 3.68\n"
     ]
    }
   ],
   "source": [
    "for month in range(1,13):\n",
    "    result = six_month(kospi,2000,2021,month)\n",
    "    print(f\"{month} -> {result:0.2f}\")"
   ]
  },
  {
   "cell_type": "code",
   "execution_count": 1,
   "metadata": {},
   "outputs": [
    {
     "name": "stderr",
     "output_type": "stream",
     "text": [
      "C:\\Users\\msi\\AppData\\Local\\Temp\\ipykernel_15332\\278314112.py:2: DeprecationWarning: the imp module is deprecated in favour of importlib; see the module's documentation for alternative uses\n",
      "  import imp\n"
     ]
    },
    {
     "data": {
      "text/plain": [
       "<module 'halloween' from 'c:\\\\ubion\\\\특강\\\\halloween\\\\__init__.py'>"
      ]
     },
     "execution_count": 1,
     "metadata": {},
     "output_type": "execute_result"
    }
   ],
   "source": [
    "import halloween as hw\n",
    "import imp\n",
    "imp.reload(hw)"
   ]
  },
  {
   "cell_type": "code",
   "execution_count": 6,
   "metadata": {},
   "outputs": [],
   "source": [
    "test = hw.Halloween(kospi,2000,2021)"
   ]
  },
  {
   "cell_type": "code",
   "execution_count": 7,
   "metadata": {},
   "outputs": [
    {
     "data": {
      "text/plain": [
       "6.18585306815823"
      ]
     },
     "execution_count": 7,
     "metadata": {},
     "output_type": "execute_result"
    }
   ],
   "source": [
    "test.AccRtn()"
   ]
  },
  {
   "cell_type": "code",
   "execution_count": 8,
   "metadata": {},
   "outputs": [
    {
     "data": {
      "text/plain": [
       "9.06507321504515"
      ]
     },
     "execution_count": 8,
     "metadata": {},
     "output_type": "execute_result"
    }
   ],
   "source": [
    "test.CAGR()"
   ]
  }
 ],
 "metadata": {
  "kernelspec": {
   "display_name": "base",
   "language": "python",
   "name": "python3"
  },
  "language_info": {
   "codemirror_mode": {
    "name": "ipython",
    "version": 3
   },
   "file_extension": ".py",
   "mimetype": "text/x-python",
   "name": "python",
   "nbconvert_exporter": "python",
   "pygments_lexer": "ipython3",
   "version": "3.9.13"
  },
  "orig_nbformat": 4,
  "vscode": {
   "interpreter": {
    "hash": "4b9c4346514f1c75c3f75b46c44207535026684b90417d2a4d1ec0e73da03737"
   }
  }
 },
 "nbformat": 4,
 "nbformat_minor": 2
}
