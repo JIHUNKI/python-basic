{
 "cells": [
  {
   "attachments": {},
   "cell_type": "markdown",
   "metadata": {},
   "source": [
    "### 함수에서 사용되는 변수들\n",
    "1. 전역 변수\n",
    "    - 어디서든 사용이 가능한 변수\n",
    "    - 어디서든 사용이 가능하기에 함수 내에서도 사용이 가능\n",
    "    - 전역 변수의 값을 변경이 어렵다.\n",
    "2. 지역 변수\n",
    "    - 특정한 지역에서 사용이 가능한 함수\n",
    "    - 지역을 벗어나면 사용이 불가능하다.\n",
    "    - 함수의 경우에는 함수가 실행될때만 변수에 데이터가 저장 함수의 실행이 종료가 되면 변수 역시 삭제(배개변수와 같은 특징)\n",
    "3. 매개 변수\n",
    "    - 특정한 지역에서 사용이 가능한 변수\n",
    "    - 매개변수는 특정한 지역이 함수에서만 국한된다.\n",
    "    - 함수를 생성하는 경우에 필요에 의해사 생성\n",
    "    - 지역 변수와 마찬가지로 지역에서 벗어나면 사용이 불가능\n",
    "    "
   ]
  },
  {
   "cell_type": "code",
   "execution_count": 11,
   "metadata": {},
   "outputs": [],
   "source": [
    "# 전역 변수 a를 생성해서 10이라는 값을 대입\n",
    "a = 10\n"
   ]
  },
  {
   "cell_type": "code",
   "execution_count": 12,
   "metadata": {},
   "outputs": [
    {
     "name": "stdout",
     "output_type": "stream",
     "text": [
      "11\n"
     ]
    }
   ],
   "source": [
    "def test():\n",
    "    b = a + 1\n",
    "    print(b)\n",
    "\n",
    "test()"
   ]
  },
  {
   "cell_type": "code",
   "execution_count": 28,
   "metadata": {},
   "outputs": [
    {
     "name": "stdout",
     "output_type": "stream",
     "text": [
      "abc\n"
     ]
    }
   ],
   "source": [
    "def test1():\n",
    "    name = \"abc\"\n",
    " \n",
    "    def test2():\n",
    "        print(name)\n",
    "    \n",
    "    test2()\n",
    "\n",
    "test1()"
   ]
  },
  {
   "cell_type": "code",
   "execution_count": 33,
   "metadata": {},
   "outputs": [],
   "source": [
    "## 매개변수\n",
    "## a라는 매개변수에 대입을 할 수 있는 데이터의 타입\n",
    "## 숫자 / 문자 / 리스트/ 스리즈 / 딕셔너리 /클래스/ 튜플/.....\n",
    "def func_1(a) : \n",
    "    print(a)"
   ]
  },
  {
   "cell_type": "code",
   "execution_count": 38,
   "metadata": {},
   "outputs": [
    {
     "data": {
      "text/plain": [
       "'Hello'"
      ]
     },
     "execution_count": 38,
     "metadata": {},
     "output_type": "execute_result"
    }
   ],
   "source": [
    "def func_2(a):\n",
    "    return a\n",
    "def func_3(b):\n",
    "    return func_2(b)\n",
    "func_3(\"Hello\")"
   ]
  },
  {
   "cell_type": "code",
   "execution_count": 39,
   "metadata": {},
   "outputs": [],
   "source": [
    "class Test:\n",
    "    def __init__(self,_x,_y):\n",
    "        self.x = _x\n",
    "        self.y = _y\n",
    "    \n",
    "    def add(self):\n",
    "        return self.x+self.y\n",
    "    \n",
    "    def change_X(self,_x):\n",
    "        self.x=_x"
   ]
  },
  {
   "cell_type": "code",
   "execution_count": 45,
   "metadata": {},
   "outputs": [],
   "source": [
    "class_test = Test(5,3)\n"
   ]
  },
  {
   "cell_type": "code",
   "execution_count": 46,
   "metadata": {},
   "outputs": [
    {
     "data": {
      "text/plain": [
       "8"
      ]
     },
     "execution_count": 46,
     "metadata": {},
     "output_type": "execute_result"
    }
   ],
   "source": [
    "class_test.add()"
   ]
  },
  {
   "cell_type": "code",
   "execution_count": 47,
   "metadata": {},
   "outputs": [
    {
     "data": {
      "text/plain": [
       "13"
      ]
     },
     "execution_count": 47,
     "metadata": {},
     "output_type": "execute_result"
    }
   ],
   "source": [
    "class_test.change_X(10)\n",
    "class_test.add()"
   ]
  },
  {
   "cell_type": "code",
   "execution_count": 49,
   "metadata": {},
   "outputs": [],
   "source": [
    "def class_change(a,b):\n",
    "    print(a.add())\n",
    "    a.change_X(b)\n",
    "    print(a.add())\n"
   ]
  },
  {
   "cell_type": "code",
   "execution_count": 50,
   "metadata": {},
   "outputs": [
    {
     "name": "stdout",
     "output_type": "stream",
     "text": [
      "13\n",
      "53\n"
     ]
    }
   ],
   "source": [
    "class_change(class_test,50)"
   ]
  },
  {
   "cell_type": "code",
   "execution_count": 61,
   "metadata": {},
   "outputs": [
    {
     "name": "stdout",
     "output_type": "stream",
     "text": [
      "53\n",
      "53\n"
     ]
    }
   ],
   "source": [
    "def calss_chage():\n",
    "    print(class_test.add())\n",
    "    class_test.change_X(50)\n",
    "    print(class_test.add())"
   ]
  },
  {
   "cell_type": "code",
   "execution_count": 60,
   "metadata": {},
   "outputs": [
    {
     "data": {
      "text/plain": [
       "8"
      ]
     },
     "execution_count": 60,
     "metadata": {},
     "output_type": "execute_result"
    }
   ],
   "source": [
    "def test(a,b):\n",
    "    return a+b\n",
    "\n",
    "test(5,3)\n",
    "\n",
    "5+3"
   ]
  },
  {
   "cell_type": "code",
   "execution_count": null,
   "metadata": {},
   "outputs": [],
   "source": []
  }
 ],
 "metadata": {
  "kernelspec": {
   "display_name": "base",
   "language": "python",
   "name": "python3"
  },
  "language_info": {
   "codemirror_mode": {
    "name": "ipython",
    "version": 3
   },
   "file_extension": ".py",
   "mimetype": "text/x-python",
   "name": "python",
   "nbconvert_exporter": "python",
   "pygments_lexer": "ipython3",
   "version": "3.9.13"
  },
  "orig_nbformat": 4,
  "vscode": {
   "interpreter": {
    "hash": "4b9c4346514f1c75c3f75b46c44207535026684b90417d2a4d1ec0e73da03737"
   }
  }
 },
 "nbformat": 4,
 "nbformat_minor": 2
}
