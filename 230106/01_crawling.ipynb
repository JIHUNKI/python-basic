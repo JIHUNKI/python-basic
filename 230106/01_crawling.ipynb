{
 "cells": [
  {
   "attachments": {},
   "cell_type": "markdown",
   "metadata": {},
   "source": [
    "### 웹크롤링\n",
    "1. 필수 라이브러리 요청과 통신"
   ]
  },
  {
   "cell_type": "code",
   "execution_count": 1,
   "metadata": {},
   "outputs": [],
   "source": [
    "import requests"
   ]
  },
  {
   "cell_type": "code",
   "execution_count": 3,
   "metadata": {},
   "outputs": [],
   "source": [
    "url = 'https://www.naver.com'\n",
    "response = requests.get(url)"
   ]
  },
  {
   "cell_type": "code",
   "execution_count": 10,
   "metadata": {},
   "outputs": [],
   "source": [
    "html_data = response.text"
   ]
  },
  {
   "cell_type": "code",
   "execution_count": 11,
   "metadata": {},
   "outputs": [
    {
     "data": {
      "text/plain": [
       "365"
      ]
     },
     "execution_count": 11,
     "metadata": {},
     "output_type": "execute_result"
    }
   ],
   "source": [
    "html_data.find(\"네이버\")"
   ]
  },
  {
   "cell_type": "code",
   "execution_count": 13,
   "metadata": {},
   "outputs": [
    {
     "data": {
      "text/plain": [
       "'네이버'"
      ]
     },
     "execution_count": 13,
     "metadata": {},
     "output_type": "execute_result"
    }
   ],
   "source": [
    "html_data[365:368]"
   ]
  },
  {
   "attachments": {},
   "cell_type": "markdown",
   "metadata": {},
   "source": [
    "### beautifulsoup 라이브러리 설치\n",
    "1. html Tag의 데이터를 쉽게 추출하기 위한 라이브러리    \n",
    "2. 웹의 구조를 어느정도 인지를 한 상태에서 이 라이브러리를 사용하면 쉽게 데이터추출이 가능\n",
    "3. 파서(parser)를 활용해서 파이썬에서 접근이 쉽게 객체형태로 제공"
   ]
  },
  {
   "cell_type": "code",
   "execution_count": 18,
   "metadata": {},
   "outputs": [],
   "source": [
    "from bs4 import BeautifulSoup as bs"
   ]
  },
  {
   "cell_type": "code",
   "execution_count": 18,
   "metadata": {},
   "outputs": [],
   "source": [
    "soup = bs(html_data,'html.parser')"
   ]
  },
  {
   "attachments": {},
   "cell_type": "markdown",
   "metadata": {},
   "source": [
    "- 태그명을 사용하여 검색\n",
    "    - 태그 : 해당 태그의 첫 번째 정보를 출력 \n",
    "    - 태그['속성'] : 해당 태그의 첫번째 속성에 대한 값을 출력"
   ]
  },
  {
   "cell_type": "code",
   "execution_count": 27,
   "metadata": {},
   "outputs": [
    {
     "data": {
      "text/plain": [
       "<title>NAVER</title>"
      ]
     },
     "execution_count": 27,
     "metadata": {},
     "output_type": "execute_result"
    }
   ],
   "source": [
    "soup.title"
   ]
  },
  {
   "cell_type": "code",
   "execution_count": 32,
   "metadata": {},
   "outputs": [
    {
     "name": "stdout",
     "output_type": "stream",
     "text": [
      "title\n"
     ]
    },
    {
     "data": {
      "text/plain": [
       "'NAVER'"
      ]
     },
     "execution_count": 32,
     "metadata": {},
     "output_type": "execute_result"
    }
   ],
   "source": [
    "print(soup.title.name)\n",
    "soup.title.string"
   ]
  },
  {
   "cell_type": "code",
   "execution_count": 37,
   "metadata": {},
   "outputs": [
    {
     "name": "stdout",
     "output_type": "stream",
     "text": [
      "<img alt=\"소한, 따뜻한 하루 보내세요~!\" class=\"special_img\" height=\"160\" src=\"https://s.pstatic.net/static/www/mobile/edit/20230105/mobile_16182725693.gif\" width=\"415\"/>\n",
      "160\n",
      "https://s.pstatic.net/static/www/mobile/edit/20230105/mobile_16182725693.gif\n"
     ]
    }
   ],
   "source": [
    "print(soup.img)\n",
    "print(soup.img['height'])\n",
    "print(soup.img['src'])"
   ]
  },
  {
   "attachments": {},
   "cell_type": "markdown",
   "metadata": {},
   "source": [
    "- find()\n",
    "    - HTML 안에서 해당 태그의 대한 첫 번째 정보를 출력\n",
    "    - find(속성=\"값\") : HTML 해당 속성과 일치하는 값에 대한 첫 번째 정보를 출력\n",
    "\n",
    "- find_all()\n",
    "    - HTML안에 해당 태그에 대한 모든 정보를 리스트 형식으로 출력\n",
    "    - limit 속성 : 리스트의 길이를 지정 "
   ]
  },
  {
   "cell_type": "code",
   "execution_count": 42,
   "metadata": {},
   "outputs": [
    {
     "data": {
      "text/plain": [
       "<a href=\"#newsstand\"><span>뉴스스탠드 바로가기</span></a>"
      ]
     },
     "execution_count": 42,
     "metadata": {},
     "output_type": "execute_result"
    }
   ],
   "source": [
    "soup.find('a')"
   ]
  },
  {
   "cell_type": "code",
   "execution_count": null,
   "metadata": {},
   "outputs": [],
   "source": [
    "print(soup.find(id='newsstand'))"
   ]
  },
  {
   "cell_type": "code",
   "execution_count": 53,
   "metadata": {},
   "outputs": [
    {
     "name": "stdout",
     "output_type": "stream",
     "text": [
      "[<span>뉴스스탠드 바로가기</span>, <span>주제별캐스트 바로가기</span>, <span>타임스퀘어 바로가기</span>, <span>쇼핑캐스트 바로가기</span>, <span>로그인 바로가기</span>, <span class=\"_1syGnXOL _3VkgqBXB\" data-clk=\"dropbanner1a\" style=\"padding-right: 20px; font-size: 17px; color: black\"><span>매일 쓰는 브라우저 보안이 걱정된다면, </span><strong>안전하고 빠른 최신 브라우저 웨일로 업데이트 하세요.</strong></span>, <span>매일 쓰는 브라우저 보안이 걱정된다면, </span>, <span style=\"background-color: #0436c7\">다운로드</span>, <span class=\"blind\">쥬니어네이버</span>, <span class=\"blind\">해피빈</span>]\n",
      "<span>타임스퀘어 바로가기</span>\n"
     ]
    }
   ],
   "source": [
    "# print(soup.find_all('span'))\n",
    "print(soup.find_all('span',limit=10))\n",
    "\n",
    "# 타임스퀘어 바로가기 \n",
    "print(soup.find_all('span',limit=10)[2])"
   ]
  },
  {
   "cell_type": "code",
   "execution_count": null,
   "metadata": {},
   "outputs": [],
   "source": [
    "## 해당 태그에서 class 기준으로 출력  -> class_로 표현\n",
    "# print(soup.find_all('span', class_ = 'blind'))\n",
    "(soup.find_all('span',attrs={'class' : 'blind'}))"
   ]
  },
  {
   "cell_type": "code",
   "execution_count": null,
   "metadata": {},
   "outputs": [],
   "source": [
    "(soup.find('span')).get_text()"
   ]
  },
  {
   "cell_type": "code",
   "execution_count": 67,
   "metadata": {},
   "outputs": [
    {
     "name": "stdout",
     "output_type": "stream",
     "text": [
      "['쥬니어네이버', '해피빈', '검색', '한글 입력기', '자동완성 레이어', '쇼핑', '쇼핑LIVE', '리스트형', '썸네일형', '설정', '이전', '다음', '닫기', '닫기', '이전', '다음', '닫기', '닫기', '이전', '다음', '다음', '닫기', '닫기', '이전', '다음', '닫기', '닫기', '이전', '다음', '이전', '다음', 'NAVER', '이전', '다음', '하락', '상승', '하락', '  ', 'TOP', '라이트 모드로 보기']\n"
     ]
    }
   ],
   "source": [
    "## 태그 삭제후 text만 가져오기\n",
    "span_list = (soup.find_all('span',attrs={'class' : 'blind'}))\n",
    "\n",
    "span_text=[]\n",
    "for i in span_list:\n",
    "    text = i.get_text()\n",
    "    span_text.append(text)\n",
    "print(span_text)"
   ]
  },
  {
   "cell_type": "code",
   "execution_count": 69,
   "metadata": {},
   "outputs": [
    {
     "name": "stdout",
     "output_type": "stream",
     "text": [
      "['쥬니어네이버', '해피빈', '검색', '한글 입력기', '자동완성 레이어', '쇼핑', '쇼핑LIVE', '리스트형', '썸네일형', '설정', '이전', '다음', '닫기', '닫기', '이전', '다음', '닫기', '닫기', '이전', '다음', '다음', '닫기', '닫기', '이전', '다음', '닫기', '닫기', '이전', '다음', '이전', '다음', 'NAVER', '이전', '다음', '하락', '상승', '하락', '  ', 'TOP', '라이트 모드로 보기']\n"
     ]
    }
   ],
   "source": [
    "## map 함수\n",
    "## map(함수, 라스트형태 데이터)\n",
    "def change(x):\n",
    "    return x.get_text()\n",
    "print(list(map(change,span_list)))"
   ]
  },
  {
   "cell_type": "code",
   "execution_count": 70,
   "metadata": {},
   "outputs": [
    {
     "name": "stdout",
     "output_type": "stream",
     "text": [
      "['쥬니어네이버', '해피빈', '검색', '한글 입력기', '자동완성 레이어', '쇼핑', '쇼핑LIVE', '리스트형', '썸네일형', '설정', '이전', '다음', '닫기', '닫기', '이전', '다음', '닫기', '닫기', '이전', '다음', '다음', '닫기', '닫기', '이전', '다음', '닫기', '닫기', '이전', '다음', '이전', '다음', 'NAVER', '이전', '다음', '하락', '상승', '하락', '  ', 'TOP', '라이트 모드로 보기']\n"
     ]
    }
   ],
   "source": [
    "print(list(map(lambda x : x.get_text(),span_list)))"
   ]
  },
  {
   "cell_type": "code",
   "execution_count": null,
   "metadata": {},
   "outputs": [],
   "source": [
    "## select_one() , select()\n",
    "print(soup.select_one('a'))\n",
    "# body 안에있는 a태그를전부 보겠다.\n",
    "print(soup.select('body a'))"
   ]
  },
  {
   "cell_type": "code",
   "execution_count": null,
   "metadata": {},
   "outputs": [],
   "source": [
    "## div 태그안에 ul속성\n",
    "print(soup.select(\"div > ul\"))"
   ]
  },
  {
   "attachments": {},
   "cell_type": "markdown",
   "metadata": {},
   "source": [
    "### selenium 라이브러리\n",
    "1. 웹 어플리케이션 테스트를 위한 라이브러리\n",
    "2. python으로 웹 브라우져 제어하는 기능\n",
    "3. 웹 드라이버 별도의 프로그램 설치"
   ]
  },
  {
   "cell_type": "code",
   "execution_count": 9,
   "metadata": {},
   "outputs": [],
   "source": [
    "# 라이브러리 설치\n",
    "from selenium import webdriver\n",
    "from selenium.webdriver.common.by import By\n",
    "from selenium.webdriver.common.keys import Keys"
   ]
  },
  {
   "cell_type": "code",
   "execution_count": 86,
   "metadata": {},
   "outputs": [
    {
     "name": "stderr",
     "output_type": "stream",
     "text": [
      "C:\\Users\\msi\\AppData\\Local\\Temp\\ipykernel_8328\\1183630475.py:7: DeprecationWarning: executable_path has been deprecated, please pass in a Service object\n",
      "  driver = webdriver.Chrome(path)\n"
     ]
    }
   ],
   "source": [
    "#path는 web driver의 경로 지정\n",
    "## 절대경로\n",
    "# path = \"C://chromedriver.exe\"\n",
    "## 상대경로\n",
    "# 경로를 통해서 포털에 접속\n",
    "path = \"../webdriver/chromedriver\"\n",
    "driver = webdriver.Chrome(path)\n",
    "driver.get(\"https://www.naver.com\")"
   ]
  },
  {
   "cell_type": "code",
   "execution_count": 88,
   "metadata": {},
   "outputs": [],
   "source": [
    "# 네이버 검색창 태그의 id값이 query인 것을 찾는다\n",
    "element = driver.find_element(By.ID,'query')\n",
    "element.send_keys(\"구디 맛집\")"
   ]
  },
  {
   "cell_type": "code",
   "execution_count": 89,
   "metadata": {},
   "outputs": [],
   "source": [
    "## 엔터\n",
    "element.send_keys(Keys.ENTER)"
   ]
  },
  {
   "cell_type": "code",
   "execution_count": 97,
   "metadata": {},
   "outputs": [],
   "source": [
    "# 웹에서 f12루 원하는곳에서 우클릭 후 copy에 xpath로 복사\n",
    "soup = bs(driver.page_source,'html.parser')\n",
    "soup"
   ]
  },
  {
   "cell_type": "code",
   "execution_count": 13,
   "metadata": {},
   "outputs": [],
   "source": [
    "import time"
   ]
  },
  {
   "attachments": {},
   "cell_type": "markdown",
   "metadata": {},
   "source": [
    "## 크롤링 class 생성\n",
    "1. 생성자 함수에는 처음 웹 드라이버가 접속할 주소를 입력\n",
    "2. 새로운 함수 생성 - 검색어를 인자값으로 보내주면 웹드라이버에서 검색 후 검색한 페이지를 텍스트형태로 리턴"
   ]
  },
  {
   "cell_type": "code",
   "execution_count": 19,
   "metadata": {},
   "outputs": [],
   "source": [
    "class Web():\n",
    "    # 생성자 함수에서는 입력한 주소 값만 저장\n",
    "    def __init__(self,_url):\n",
    "        self.url = _url\n",
    "    \n",
    "    # 검색함수에서는 검색어를 인자로 받고 \n",
    "    # 웹드라이버를 실행\n",
    "    # 검색 창에 검색어를 입력\n",
    "    # 검색 창 클릭\n",
    "    # 페이지 이동 후 페이지의 html코드를 bs4를 이용하여 객체화 한 데이터를 리턴\n",
    "    def search(self,_search):\n",
    "        self.path = \"../webdriver/chromedriver\"\n",
    "        self.driver = webdriver.Chrome(self.path)\n",
    "        self.driver.get(\"https://www.naver.com\")\n",
    "        # 1초정도 web이 켜질때까지 딜레이\n",
    "        time.sleep(1)\n",
    "\n",
    "        self.element = self.driver.find_element(By.ID,\"query\")\n",
    "        self.element.send_keys(_search)\n",
    "        self.element.send_keys(Keys.ENTER)\n",
    "        time.sleep(1)\n",
    "\n",
    "        self.result = bs(self.driver.page_source,\"html.parser\")\n",
    "        return self.result\n",
    "        "
   ]
  },
  {
   "cell_type": "code",
   "execution_count": 20,
   "metadata": {},
   "outputs": [],
   "source": [
    "test = Web(\"https://wwww.naver.com\")\n",
    "\n"
   ]
  },
  {
   "cell_type": "code",
   "execution_count": null,
   "metadata": {},
   "outputs": [],
   "source": [
    "test.search(\"parssing\")"
   ]
  },
  {
   "cell_type": "code",
   "execution_count": null,
   "metadata": {},
   "outputs": [],
   "source": []
  }
 ],
 "metadata": {
  "kernelspec": {
   "display_name": "base",
   "language": "python",
   "name": "python3"
  },
  "language_info": {
   "codemirror_mode": {
    "name": "ipython",
    "version": 3
   },
   "file_extension": ".py",
   "mimetype": "text/x-python",
   "name": "python",
   "nbconvert_exporter": "python",
   "pygments_lexer": "ipython3",
   "version": "3.9.13"
  },
  "orig_nbformat": 4,
  "vscode": {
   "interpreter": {
    "hash": "4b9c4346514f1c75c3f75b46c44207535026684b90417d2a4d1ec0e73da03737"
   }
  }
 },
 "nbformat": 4,
 "nbformat_minor": 2
}
